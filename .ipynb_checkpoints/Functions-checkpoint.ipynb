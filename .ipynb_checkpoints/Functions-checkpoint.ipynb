{
 "cells": [
  {
   "cell_type": "markdown",
   "id": "81ea3e4b-9035-49b5-a465-e4b2e73acd80",
   "metadata": {},
   "source": [
    "# Functions\n",
    "### This is a short guide on how to create functions in Python\n",
    "1. We define funcion's name and arguments:\n",
    "\n",
    "   def\n",
    "\n",
    "   adding(a, b):\n",
    "3. We insert functions body\n",
    "\n",
    "   return\n",
    "   a+b"
   ]
  },
  {
   "cell_type": "code",
   "execution_count": 3,
   "id": "a9116ef5-def3-4602-9d1f-10d3844c6669",
   "metadata": {},
   "outputs": [],
   "source": [
    "def adding(a, b):\n",
    "    return a+b"
   ]
  },
  {
   "cell_type": "markdown",
   "id": "5f77dbdd-eee3-4557-baac-ffa0db39aff7",
   "metadata": {},
   "source": [
    "### Here's an example of how to run the function"
   ]
  },
  {
   "cell_type": "code",
   "execution_count": 4,
   "id": "b025da1f-ae38-4146-8777-e669f65b2c1b",
   "metadata": {},
   "outputs": [
    {
     "data": {
      "text/plain": [
       "4"
      ]
     },
     "execution_count": 4,
     "metadata": {},
     "output_type": "execute_result"
    }
   ],
   "source": [
    "adding(1,3)"
   ]
  },
  {
   "cell_type": "code",
   "execution_count": null,
   "id": "03d1f225-1ca4-4c98-bdb6-de1015c4d839",
   "metadata": {},
   "outputs": [],
   "source": []
  }
 ],
 "metadata": {
  "kernelspec": {
   "display_name": "Python 3 (ipykernel)",
   "language": "python",
   "name": "python3"
  },
  "language_info": {
   "codemirror_mode": {
    "name": "ipython",
    "version": 3
   },
   "file_extension": ".py",
   "mimetype": "text/x-python",
   "name": "python",
   "nbconvert_exporter": "python",
   "pygments_lexer": "ipython3",
   "version": "3.12.8"
  }
 },
 "nbformat": 4,
 "nbformat_minor": 5
}
